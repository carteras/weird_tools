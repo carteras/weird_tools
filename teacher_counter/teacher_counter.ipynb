{
 "cells": [
  {
   "cell_type": "code",
   "execution_count": 8,
   "metadata": {},
   "outputs": [],
   "source": [
    "from inspect import currentframe, getframeinfo\n",
    "from dataclasses import dataclass\n",
    "from pathlib import Path\n",
    "import pandas as pd\n",
    "filename = getframeinfo(currentframe()).filename\n",
    "here = Path.cwd()\n",
    "data = here.parent / \".data\"\n",
    "absences = data / \"absence_details_of_students.csv\""
   ]
  },
  {
   "cell_type": "code",
   "execution_count": 21,
   "metadata": {},
   "outputs": [],
   "source": [
    "students = pd.read_csv(absences)"
   ]
  },
  {
   "cell_type": "code",
   "execution_count": 22,
   "metadata": {},
   "outputs": [],
   "source": [
    "all_students = students['Student Name'].unique()\n",
    "all_teachers = students['Teacher Name'].unique()"
   ]
  },
  {
   "cell_type": "code",
   "execution_count": 42,
   "metadata": {},
   "outputs": [],
   "source": [
    "\n",
    "number_of_students = len(all_students)\n",
    "number_of_teachers = len(all_teachers)\n",
    "\n"
   ]
  },
  {
   "cell_type": "code",
   "execution_count": 52,
   "metadata": {},
   "outputs": [
    {
     "name": "stdout",
     "output_type": "stream",
     "text": [
      "funding ratio = 13.6:1 for 1173 students equates to 86.25 teachers. We have 78 or 8.25 teachers in in surplus\n",
      "actual ratio is: 1173:78 or 15.038461538461538\n"
     ]
    }
   ],
   "source": [
    "def calculate_actual_teachers(funded_students, funded_teachers, actual_students):\n",
    "    actual_teachers = (funded_teachers / funded_students) * actual_students\n",
    "    return actual_teachers\n",
    "\n",
    "def calculate_actual_ratio( actual_students, actual_teachers):\n",
    "    return actual_students / actual_teachers\n",
    "\n",
    "funding_ratio = 13.6\n",
    "ratio_teachers = 1\n",
    "funded_teachers = calculate_actual_teachers(funded_students=funding_ratio, funded_teachers=ratio_teachers, actual_students=number_of_students)\n",
    "delta = funded_teachers - number_of_teachers\n",
    "print(f\"funding ratio = {funding_ratio}:{ratio_teachers} for {number_of_students} students equates to {funded_teachers} teachers. We have {number_of_teachers} or {delta} teachers in\", end=\" \")\n",
    "if delta > 0: print(\"in surplus\")\n",
    "else: print(' in deficit')\n",
    "print(f\"actual ratio is: {number_of_students}:{number_of_teachers} or {calculate_actual_ratio(number_of_students, number_of_teachers)}\")\n"
   ]
  }
 ],
 "metadata": {
  "kernelspec": {
   "display_name": ".venv",
   "language": "python",
   "name": "python3"
  },
  "language_info": {
   "codemirror_mode": {
    "name": "ipython",
    "version": 3
   },
   "file_extension": ".py",
   "mimetype": "text/x-python",
   "name": "python",
   "nbconvert_exporter": "python",
   "pygments_lexer": "ipython3",
   "version": "3.10.6"
  }
 },
 "nbformat": 4,
 "nbformat_minor": 2
}
