{
 "cells": [
  {
   "cell_type": "code",
   "execution_count": 1,
   "metadata": {},
   "outputs": [],
   "source": [
    "from inspect import currentframe, getframeinfo\n",
    "from dataclasses import dataclass\n",
    "from pathlib import Path\n",
    "import pandas as pd\n",
    "filename = getframeinfo(currentframe()).filename\n",
    "here = Path.cwd()\n",
    "data = here.parent / \".data\""
   ]
  },
  {
   "cell_type": "code",
   "execution_count": 9,
   "metadata": {},
   "outputs": [],
   "source": [
    "sentral_df = pd.read_csv(data / \"summary_of_student_absences2025.S1.T1.csv\", converters={'Student ID': '{:0>7}'.format})"
   ]
  },
  {
   "cell_type": "code",
   "execution_count": 10,
   "metadata": {},
   "outputs": [
    {
     "data": {
      "text/plain": [
       "array(['0398407', '0362931', '1020459', '8420479', '0343067', '8161184',\n",
       "       '9943852', '0384418', '0482956', '8038708', '0186555', '2150492',\n",
       "       '0063656', '8161175', '0637568', '4050528', '0343094', '0717796',\n",
       "       '4210495', '0063652', '9947575', '0186523', '0342991', '1020512',\n",
       "       '2150429', '0186560', '1020518', '9955078', '0398588', '0483682',\n",
       "       '0617695', '0627775', '9933101', '0186571', '0446909', '0483192',\n",
       "       '0419140', '0870599', '0592720', '0476969', '0617916', '0617722',\n",
       "       '8001760', '9956340'], dtype=object)"
      ]
     },
     "execution_count": 10,
     "metadata": {},
     "output_type": "execute_result"
    }
   ],
   "source": [
    "me_df = sentral_df[sentral_df[\"Teacher\"] == \"Mr Adam Carter\"]\n",
    "me_df = sentral_df[sentral_df[\"Unit Name\"]== \"Yr 11/12 Networking/Security\"]\n",
    "me_df['Student ID'].unique()"
   ]
  },
  {
   "cell_type": "code",
   "execution_count": 14,
   "metadata": {},
   "outputs": [
    {
     "name": "stdout",
     "output_type": "stream",
     "text": [
      "name,email,password\n"
     ]
    }
   ],
   "source": [
    "data = {\n",
    "    'name': [],\n",
    "    'email': [],\n",
    "    'password': []\n",
    "}\n",
    "print(\"name,email,password\")\n",
    "for id in me_df['Student ID'].unique():\n",
    "    # print(f\"{id},{id}@schoolsnet.act.edu.au,{id}\")\n",
    "    data['name'].append(id)\n",
    "    data['email'].append(f\"{id}@schoolsnet.act.edu.au\")\n",
    "    data['password'].append(id)"
   ]
  },
  {
   "cell_type": "code",
   "execution_count": 15,
   "metadata": {},
   "outputs": [],
   "source": [
    "df = pd.DataFrame(data)\n",
    "df.to_csv(here/\"output.csv\", index=False)"
   ]
  }
 ],
 "metadata": {
  "kernelspec": {
   "display_name": "usr",
   "language": "python",
   "name": "python3"
  },
  "language_info": {
   "codemirror_mode": {
    "name": "ipython",
    "version": 3
   },
   "file_extension": ".py",
   "mimetype": "text/x-python",
   "name": "python",
   "nbconvert_exporter": "python",
   "pygments_lexer": "ipython3",
   "version": "3.13.2"
  }
 },
 "nbformat": 4,
 "nbformat_minor": 2
}
